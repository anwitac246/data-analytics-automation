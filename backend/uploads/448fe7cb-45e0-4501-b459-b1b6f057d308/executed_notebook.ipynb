{
 "cells": [
  {
   "cell_type": "code",
   "execution_count": null,
   "id": "088b47bc",
   "metadata": {
    "papermill": {
     "duration": null,
     "end_time": null,
     "exception": null,
     "start_time": null,
     "status": "completed"
    },
    "tags": [
     "injected-parameters"
    ]
   },
   "outputs": [],
   "source": [
    "# Parameters\n",
    "input_file = \"uploads\\\\448fe7cb-45e0-4501-b459-b1b6f057d308\\\\WA_Fn-UseC_-Telco-Customer-Churn.csv\"\n",
    "output_json = \"uploads\\\\448fe7cb-45e0-4501-b459-b1b6f057d308\\\\summary_output.json\"\n"
   ]
  },
  {
   "cell_type": "code",
   "execution_count": null,
   "id": "f3ac87d7",
   "metadata": {
    "papermill": {
     "duration": null,
     "end_time": null,
     "exception": null,
     "start_time": null,
     "status": "completed"
    },
    "tags": []
   },
   "outputs": [],
   "source": [
    "{\n",
    " \"cells\": [\n",
    "  {\n",
    "   \"cell_type\": \"code\",\n",
    "   \"execution_count\": null,\n",
    "   \"metadata\": {},\n",
    "   \"outputs\": [],\n",
    "   \"source\": [\n",
    "    \"# Parameters cell for papermill\\n\",\n",
    "    \"input_file = ''\\n\",\n",
    "    \"output_json = ''\\n\"\n",
    "   ]\n",
    "  },\n",
    "  {\n",
    "   \"cell_type\": \"code\",\n",
    "   \"execution_count\": null,\n",
    "   \"metadata\": {},\n",
    "   \"outputs\": [],\n",
    "   \"source\": [\n",
    "    \"# Your analysis code here\\n\",\n",
    "    \"print(f\\\"Analyzing file: {input_file}\\\")\\n\",\n",
    "    \"# Dummy output example\\n\",\n",
    "    \"import json\\n\",\n",
    "    \"summary = {\\n\",\n",
    "    \"    \\\"info\\\": \\\"This is dummy output from the notebook.\\\"\\n\",\n",
    "    \"}\\n\",\n",
    "    \"with open(output_json, 'w') as f:\\n\",\n",
    "    \"    json.dump(summary, f)\\n\"\n",
    "   ]\n",
    "  }\n",
    " ],\n",
    " \"metadata\": {\n",
    "  \"kernelspec\": {\n",
    "   \"name\": \"python3\",\n",
    "   \"display_name\": \"Python 3\",\n",
    "   \"language\": \"python\"\n",
    "  },\n",
    "  \"language_info\": {\n",
    "   \"name\": \"python\",\n",
    "   \"version\": \"3.10.4\"\n",
    "  }\n",
    " },\n",
    " \"nbformat\": 4,\n",
    " \"nbformat_minor\": 5\n",
    "}\n"
   ]
  }
 ],
 "metadata": {
  "kernelspec": {
   "display_name": "Python 3",
   "language": "python",
   "name": "python3"
  },
  "language_info": {
   "name": "python",
   "version": "3.12.5"
  },
  "papermill": {
   "default_parameters": {},
   "duration": 0.078578,
   "end_time": "2025-06-03T16:38:45.215661",
   "environment_variables": {},
   "exception": null,
   "input_path": "notebooks/test_analysis.ipynb",
   "output_path": "uploads\\448fe7cb-45e0-4501-b459-b1b6f057d308\\executed_notebook.ipynb",
   "parameters": {
    "input_file": "uploads\\448fe7cb-45e0-4501-b459-b1b6f057d308\\WA_Fn-UseC_-Telco-Customer-Churn.csv",
    "output_json": "uploads\\448fe7cb-45e0-4501-b459-b1b6f057d308\\summary_output.json"
   },
   "start_time": "2025-06-03T16:38:45.137083",
   "version": "2.6.0"
  }
 },
 "nbformat": 4,
 "nbformat_minor": 5
}